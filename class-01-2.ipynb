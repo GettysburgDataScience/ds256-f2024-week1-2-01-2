{
 "cells": [
  {
   "cell_type": "markdown",
   "id": "e4ef3297-2492-4b09-80a9-27727eedd390",
   "metadata": {},
   "source": [
    "DS 256 Data Science Programming, Fall 2024\n",
    "Prof Eatai Roth\n",
    "\n",
    "Class 1.2\n",
    "\n",
    "# Welcome\n",
    "\n",
    "This is a Jupyter notebook. Notebooks comprise a sequence of cells containing text (markdown) or code as well as any outputs from the code (e.g. text, tables, figures). Well written, well annotated code should be easy to follow in a notebook format."
   ]
  },
  {
   "cell_type": "markdown",
   "id": "72f064b6-9c34-4574-8871-d3d1e1ae63a9",
   "metadata": {},
   "source": [
    "## Cells\n",
    "\n",
    "There are two types of cells:\n",
    "\n",
    " - Markdown -- compiles into text\n",
    " - Code -- runs as code\n",
    "\n",
    "To convert a cell to markdown, Esc-M\n",
    "To convert a cell to code, Esc-Y\n",
    "\n",
    "To run a cell, we use Shift+Enter (or the play button in the menu above).\n",
    "\n",
    "You can add cells before or after your current cell with the buttons in the upper right of the cell (to the left of the trash icon), or using Esc-a (add before) and Esc-b (after).\n",
    "\n",
    "You can look at the markdown on this cell to see how I achieved the heading and the bulleted list."
   ]
  },
  {
   "cell_type": "markdown",
   "id": "dfd10dba-bcf2-4ffc-9693-ec1863cd8c22",
   "metadata": {},
   "source": [
    "## Code cells\n",
    "\n",
    "We can use code cells as a calculator like so. You'll see that when you run the code cell, it displays the output right below.\n",
    "\n",
    "However, if you write multiple rows of equations, only the last output will display.\n",
    "\n",
    "# Comments\n",
    "Anything that comes after # (pound/hashtag/octothorp) in a code cell or between ''' ''' (triple quotes) is a comment. Comments help explain what's happening in the code."
   ]
  },
  {
   "cell_type": "code",
   "execution_count": 1,
   "id": "7d1eb540-aba6-44ca-8141-41fe52b74997",
   "metadata": {},
   "outputs": [
    {
     "data": {
      "text/plain": [
       "256"
      ]
     },
     "execution_count": 1,
     "metadata": {},
     "output_type": "execute_result"
    }
   ],
   "source": [
    "250+6"
   ]
  },
  {
   "cell_type": "code",
   "execution_count": 3,
   "id": "275fae7a-1072-4cdb-aabf-483dfdb86ce3",
   "metadata": {},
   "outputs": [
    {
     "data": {
      "text/plain": [
       "9"
      ]
     },
     "execution_count": 3,
     "metadata": {},
     "output_type": "execute_result"
    }
   ],
   "source": [
    "'''\n",
    "Showing that only the last line will display output.\n",
    "'''\n",
    "\n",
    "4**2 # won't display output\n",
    "3**2 # will display output"
   ]
  },
  {
   "cell_type": "markdown",
   "id": "8137b49f-ec66-4adf-834f-290611052758",
   "metadata": {},
   "source": [
    "Hardly ever will you use a cell as a calculator.\n",
    "\n",
    "So let's dive into code."
   ]
  },
  {
   "cell_type": "markdown",
   "id": "374c9500-b88d-4e92-b1f1-a1f5de16d10b",
   "metadata": {},
   "source": [
    "## Variables\n",
    "\n",
    "We can store data in variables and we can manipulate variables to create new variables.\n",
    "\n",
    "Let's start with some simple data types.\n",
    "\n",
    " - ints - numbers without decimals\n",
    " - floats - numbers with decimals\n",
    " - strings - sequence of characters (usually words, names, sentences, etc) in quotes\n",
    " - boolean - True or False\n",
    "\n",
    "Python is a very permissive language in that it lets any variable hold any data type (and be replaced by another data type).\n",
    "\n",
    "To see this, we'll install a plug-in to Jupyter lab: a variable inspector."
   ]
  },
  {
   "cell_type": "code",
   "execution_count": 4,
   "id": "34b6c32a-afae-4990-bd14-583d2648fc9d",
   "metadata": {},
   "outputs": [],
   "source": [
    "x = 5   # x is an int"
   ]
  },
  {
   "cell_type": "code",
   "execution_count": 5,
   "id": "5634d652-b435-4799-b387-be2e5e12aefd",
   "metadata": {},
   "outputs": [],
   "source": [
    "x = 5.0 # x is a float"
   ]
  },
  {
   "cell_type": "code",
   "execution_count": 6,
   "id": "310af73d-20f9-44fd-955f-6af4f972d299",
   "metadata": {},
   "outputs": [],
   "source": [
    "x ='Prof Roth' # x is string"
   ]
  },
  {
   "cell_type": "code",
   "execution_count": 7,
   "id": "12857179-1fe9-4cdd-9777-dd7e32efcf38",
   "metadata": {},
   "outputs": [],
   "source": [
    "birds = False # birds is a boolean"
   ]
  },
  {
   "cell_type": "markdown",
   "id": "8eaccfc7-5658-4efb-a89d-972e2831507e",
   "metadata": {},
   "source": [
    "Notice that code cells have brackets to the left, and the number in the bracket increment every time we run a cell.\n",
    "\n",
    "You should think that every time you run a block of code, it's being added to a history of executed commands. The order of execution and NOT THE ORDER OF THE CELLS IN THE NOTEBOOK determines how a variable changes.\n",
    "\n",
    "Run the next three blocks of code in sequence, then run them out of sequence. Pay attention to how the cell execution number and variable values change.\n",
    "\n",
    "If you've made a mess of your variables, you can clear all the values and run your code fresh by restarting the kernel (circle arrow in the menu above)."
   ]
  },
  {
   "cell_type": "code",
   "execution_count": 14,
   "id": "a3aa19a2-18b2-4045-a4cf-f4312be5aab1",
   "metadata": {},
   "outputs": [],
   "source": [
    "buzz = 5\n",
    "hamm = 10\n",
    "woody = 20"
   ]
  },
  {
   "cell_type": "code",
   "execution_count": 15,
   "id": "9ee55e1e-a72a-4911-86e6-a28e39ae874f",
   "metadata": {},
   "outputs": [],
   "source": [
    "hamm = woody-hamm # assign a new value to hamm"
   ]
  },
  {
   "cell_type": "code",
   "execution_count": 16,
   "id": "74a38fd0-15d0-4d22-8bdb-a52eb94b6e5f",
   "metadata": {},
   "outputs": [],
   "source": [
    "buzz = woody + 100 # assign a new value to buzz"
   ]
  },
  {
   "cell_type": "code",
   "execution_count": 17,
   "id": "2a1470a6-25fc-4bd5-8373-9c773ad81c78",
   "metadata": {},
   "outputs": [],
   "source": [
    "woody = hamm # assign a new value to woody"
   ]
  },
  {
   "cell_type": "raw",
   "id": "ab1d6682-5f49-4bb4-90f1-faabc4a6bed0",
   "metadata": {},
   "source": [
    "## Strings and print\n",
    "\n",
    "Print writes text typically to the console, but in notebooks, you'll see it right below. A print statement will display regardless if it's the last line or not.\n",
    "\n",
    "If you print a variable (not in quotes), it will print the value of the variable.\n",
    "\n"
   ]
  },
  {
   "cell_type": "code",
   "execution_count": 18,
   "id": "00f5e946-7eee-4395-8678-fdd0600e8a22",
   "metadata": {},
   "outputs": [
    {
     "name": "stdout",
     "output_type": "stream",
     "text": [
      "hello world\n"
     ]
    }
   ],
   "source": [
    "print('hello world')"
   ]
  },
  {
   "cell_type": "code",
   "execution_count": 19,
   "id": "16b2dc10-8579-4781-b4d3-55f746a5144b",
   "metadata": {},
   "outputs": [
    {
     "name": "stdout",
     "output_type": "stream",
     "text": [
      "5\n"
     ]
    }
   ],
   "source": [
    "print(woody)"
   ]
  },
  {
   "cell_type": "code",
   "execution_count": 20,
   "id": "1429c858-db8f-466c-b82d-1e0265906781",
   "metadata": {},
   "outputs": [
    {
     "name": "stdout",
     "output_type": "stream",
     "text": [
      "woody\n"
     ]
    }
   ],
   "source": [
    "print('woody')"
   ]
  },
  {
   "cell_type": "markdown",
   "id": "97444480-7e31-4158-92a7-04e58b6494f2",
   "metadata": {},
   "source": [
    "## Adding strings \n",
    "\n",
    "Add strings with a plus sign (+).\n",
    "\n",
    "You can repeat a string by multiplying it by a number.\n",
    "\n",
    "## f-strings\n",
    "f-strings let you insert variables into strings using curly braces. To create an f-string, put a lowercase f before the quotes."
   ]
  },
  {
   "cell_type": "code",
   "execution_count": 30,
   "id": "61b0b432-66ee-47a7-b988-1452afb131d3",
   "metadata": {},
   "outputs": [
    {
     "name": "stdout",
     "output_type": "stream",
     "text": [
      "helloworld\n",
      "hello Prof Roth\n",
      "hellohellohello\n"
     ]
    }
   ],
   "source": [
    "print('hello' + 'world')\n",
    "print('hello ' + x)\n",
    "print('hello' * 3)"
   ]
  },
  {
   "cell_type": "code",
   "execution_count": 21,
   "id": "1188faab-f2d9-4bd6-8003-e1d506d304a2",
   "metadata": {},
   "outputs": [
    {
     "data": {
      "text/plain": [
       "'Woody, Buzz, and Hamm are 5, 8, and -5, respectively'"
      ]
     },
     "execution_count": 21,
     "metadata": {},
     "output_type": "execute_result"
    }
   ],
   "source": [
    "f'Woody, Buzz, and Hamm are {woody}, {buzz}, and {hamm}, respectively'"
   ]
  },
  {
   "cell_type": "markdown",
   "id": "b35c074b-d107-47d1-8bfa-32ab4ba75afe",
   "metadata": {},
   "source": [
    "## Functions\n",
    "\n",
    "Functions are a set of instructions that run as a block. Functions can take inputs (single or multiple) and return outputs. This is the form of a function.\n",
    "\n",
    "def function_name(input_1, input_2):\n",
    "    code code code\n",
    "    return output_1, output_2\n",
    "\n",
    "## Example function\n",
    "A function that takes the city name and team name and combines the strings. This function would combine any two words."
   ]
  },
  {
   "cell_type": "code",
   "execution_count": 27,
   "id": "88ec0bfe-1042-42ee-9bb2-78c9fb535f3b",
   "metadata": {},
   "outputs": [],
   "source": [
    "def combineTeamCity(team_name, city_name):\n",
    "    '''\n",
    "        combines two inputs with a space in between, second input goes first\n",
    "\n",
    "        inputs:\n",
    "            team_name is a string\n",
    "            city_name is a string\n",
    "        outputs:\n",
    "            city_team is 'city_name team_name'        \n",
    "    '''\n",
    "    city_team = city_name + ' ' + team_name\n",
    "    return city_team"
   ]
  },
  {
   "cell_type": "markdown",
   "id": "f2f729a1-fe4e-4600-8ce3-c92bee556f9d",
   "metadata": {},
   "source": [
    "To run the function, you use the format:\n",
    "\n",
    "    output_variable = function_name(inputs)"
   ]
  },
  {
   "cell_type": "code",
   "execution_count": 31,
   "id": "e0d871d7-397f-4305-b7c0-422d54d3645c",
   "metadata": {},
   "outputs": [
    {
     "name": "stdout",
     "output_type": "stream",
     "text": [
      "Professor Roth teaches DS 256 and roots for the Philadelphia Eagles\n"
     ]
    }
   ],
   "source": [
    "iggles = combineTeamCity('Eagles', 'Philadelphia')\n",
    "ds256 = combineTeamCity('256', 'DS')\n",
    "\n",
    "print(f'Professor Roth teaches {ds256} and roots for the {iggles}.')"
   ]
  },
  {
   "cell_type": "markdown",
   "id": "fa7cc064-64e7-42da-b0a6-199486a3482b",
   "metadata": {},
   "source": [
    "# Now you try"
   ]
  },
  {
   "cell_type": "markdown",
   "id": "dea40937-0997-412f-bfe3-5bdef2be7102",
   "metadata": {},
   "source": [
    "**Problem 1**\n",
    "\n",
    "Write two functions, ```calcArea``` and ```calcPerim```, to calculate the area and perimeter of a rectangle, respectively.\n",
    "\n",
    "What should the inputs and outputs be?"
   ]
  },
  {
   "cell_type": "markdown",
   "id": "47858bee-59c5-496b-b443-4b829b09b248",
   "metadata": {},
   "source": [
    "**Problem 2**\n",
    "\n",
    "Write a function, ```calcAreaPerim```, that returns both the area and perimeter of a rectangle. You can have multiple outputs in the return statement, separating them by commas."
   ]
  },
  {
   "cell_type": "markdown",
   "id": "3399be7d-1d15-4677-b6a9-6d2be3b63738",
   "metadata": {},
   "source": [
    "**Problem 3**\n",
    "Write a function called ```echo``` that takes as input a word and a number. The function has no output, but it should print a string with the word repeated the number of times specified. The words should be separated by the number of spaces the word is repeated (e.g. if 'hello' is repeated three times, each 'hello' should be separated by three spaces)."
   ]
  },
  {
   "cell_type": "code",
   "execution_count": null,
   "id": "51449a5b-4ffe-4fae-ae8f-04a07e9cf38c",
   "metadata": {},
   "outputs": [],
   "source": []
  }
 ],
 "metadata": {
  "kernelspec": {
   "display_name": "Python 3 (ipykernel)",
   "language": "python",
   "name": "python3"
  },
  "language_info": {
   "codemirror_mode": {
    "name": "ipython",
    "version": 3
   },
   "file_extension": ".py",
   "mimetype": "text/x-python",
   "name": "python",
   "nbconvert_exporter": "python",
   "pygments_lexer": "ipython3",
   "version": "3.12.4"
  }
 },
 "nbformat": 4,
 "nbformat_minor": 5
}
